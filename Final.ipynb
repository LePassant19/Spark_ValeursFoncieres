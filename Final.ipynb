{
 "cells": [
  {
   "cell_type": "markdown",
   "metadata": {},
   "source": [
    "# Init project "
   ]
  },
  {
   "cell_type": "code",
   "execution_count": 1,
   "metadata": {},
   "outputs": [],
   "source": [
    "import herepy\n",
    "\n",
    "import folium\n",
    "import pygal\n",
    "import pandas as pd\n",
    "\n",
    "import numpy as np\n",
    "import os\n",
    "import re\n",
    "import time \n",
    "import json\n",
    "import datetime\n",
    "\n",
    "from pyspark.sql import SQLContext\n",
    "import matplotlib.pyplot as plt\n",
    "\n",
    "from sklearn.model_selection import train_test_split\n",
    "from shapely.geometry import Point\n",
    "from shapely.geometry.polygon import Polygon"
   ]
  },
  {
   "cell_type": "code",
   "execution_count": 2,
   "metadata": {},
   "outputs": [],
   "source": [
    "import findspark\n",
    "findspark.init()\n",
    "\n",
    "import pyspark\n",
    "import random\n",
    "import math\n",
    "\n",
    "# sc.stop()\n",
    "sc = pyspark.SparkContext(appName=\"Valeur Fonctiere\")"
   ]
  },
  {
   "cell_type": "markdown",
   "metadata": {},
   "source": [
    "# Create Data File"
   ]
  },
  {
   "cell_type": "markdown",
   "metadata": {},
   "source": [
    "No need to run it if final data file provided // Take few minutes"
   ]
  },
  {
   "cell_type": "code",
   "execution_count": 3,
   "metadata": {},
   "outputs": [],
   "source": [
    "class txt_reader_valeurs_foncieres():\n",
    "    \n",
    "    def __init__(self, full_path_name_txt):\n",
    "        self.txt_paths=full_path_name_txt\n",
    "        self.dataframes=self.fill_dataframes()\n",
    "    \n",
    "    def fill_dataframes(self):\n",
    "        dataframes=list()\n",
    "        for path in self.txt_paths:\n",
    "            df=pd.read_csv(path,sep='|',low_memory=False)\n",
    "            dataframes.append(df)\n",
    "        return dataframes\n",
    "    \n",
    "    \n",
    "    def get_columns(self):\n",
    "        columns=None\n",
    "        for df in self.dataframes:\n",
    "            if columns is None:\n",
    "                columns=df.columns\n",
    "            else:\n",
    "                if columns.all()!=df.columns.all():\n",
    "                    print('TXT format columns not matching')\n",
    "\n",
    "        return columns\n",
    "    \n",
    "    def combine_all_csv(self,columns_selected):\n",
    "        df_joined=pd.DataFrame()\n",
    "        for df in self.dataframes:\n",
    "            df_joined=df_joined.append(df[columns_selected],ignore_index=True)\n",
    "        df_joined.fillna(0, inplace=True)\n",
    "        df_joined.to_csv(\"Valeurs foncières/Joined/valeurs_foncieres_joined.csv\",index=False) \n",
    "\n",
    "    def retrieve_df(self,item_num):\n",
    "        return self.dataframes[item_num]"
   ]
  },
  {
   "cell_type": "code",
   "execution_count": 4,
   "metadata": {},
   "outputs": [],
   "source": [
    "txt_files=list()\n",
    "directory='Valeurs foncières/'\n",
    "for filename in os.listdir(directory):\n",
    "    if filename.endswith(\".txt\"):\n",
    "        txt_files.append(directory+ '/' +filename)\n",
    "        \n",
    "reader_txt=txt_reader_valeurs_foncieres(txt_files)\n",
    "\n",
    "\n",
    "# We want to keep few columns for analysis:\n",
    "#     - Date mutation\n",
    "#     -'Valeur fonciere'\n",
    "#     -'No voie'\n",
    "#     -'Type de voie'\n",
    "#     -'Code voie'\n",
    "#     -'Voie'\n",
    "#     -'Code postal'\n",
    "#     -'Commune'\n",
    "#     -'Code departement'\n",
    "#     -'Code commune'\n",
    "#     -'Surface reelle bati'\n",
    "#     -'Nombre pieces principales'\n",
    "\n",
    "\n",
    "columns=['Date mutation','Valeur fonciere','No voie','Type de voie','Code voie','Voie',\n",
    "    'Code postal','Commune','Code departement','Code commune','Surface reelle bati',\n",
    "    'Nombre pieces principales']\n",
    "reader_txt.combine_all_csv(columns)"
   ]
  },
  {
   "cell_type": "markdown",
   "metadata": {},
   "source": [
    "# Read final data file as pd"
   ]
  },
  {
   "cell_type": "code",
   "execution_count": 3,
   "metadata": {},
   "outputs": [],
   "source": [
    "df=pd.read_csv('valeurs_foncieres_joined.csv',dtype=str,low_memory=False)\n",
    "\n",
    "# Select only ile de france\n",
    "df_IleDeFrance=df[df['Code postal'].str.contains('^75[0-9]{3}.',regex=True, na=False)]"
   ]
  },
  {
   "cell_type": "code",
   "execution_count": 4,
   "metadata": {},
   "outputs": [],
   "source": [
    "list_arrondissements=df_IleDeFrance['Code postal'].unique()"
   ]
  },
  {
   "cell_type": "code",
   "execution_count": 5,
   "metadata": {},
   "outputs": [
    {
     "data": {
      "text/html": [
       "<div>\n",
       "<style scoped>\n",
       "    .dataframe tbody tr th:only-of-type {\n",
       "        vertical-align: middle;\n",
       "    }\n",
       "\n",
       "    .dataframe tbody tr th {\n",
       "        vertical-align: top;\n",
       "    }\n",
       "\n",
       "    .dataframe thead th {\n",
       "        text-align: right;\n",
       "    }\n",
       "</style>\n",
       "<table border=\"1\" class=\"dataframe\">\n",
       "  <thead>\n",
       "    <tr style=\"text-align: right;\">\n",
       "      <th></th>\n",
       "      <th>Date mutation</th>\n",
       "      <th>Valeur fonciere</th>\n",
       "      <th>No voie</th>\n",
       "      <th>Type de voie</th>\n",
       "      <th>Code voie</th>\n",
       "      <th>Voie</th>\n",
       "      <th>Code postal</th>\n",
       "      <th>Commune</th>\n",
       "      <th>Code departement</th>\n",
       "      <th>Code commune</th>\n",
       "      <th>Surface reelle bati</th>\n",
       "      <th>Nombre pieces principales</th>\n",
       "    </tr>\n",
       "  </thead>\n",
       "  <tbody>\n",
       "    <tr>\n",
       "      <th>922095</th>\n",
       "      <td>16/01/2019</td>\n",
       "      <td>650000,00</td>\n",
       "      <td>25.0</td>\n",
       "      <td>AV</td>\n",
       "      <td>3520</td>\n",
       "      <td>FERDINAND BUISSON</td>\n",
       "      <td>75016.0</td>\n",
       "      <td>BOULOGNE-BILLANCOURT</td>\n",
       "      <td>92</td>\n",
       "      <td>12</td>\n",
       "      <td>89.0</td>\n",
       "      <td>3.0</td>\n",
       "    </tr>\n",
       "    <tr>\n",
       "      <th>922162</th>\n",
       "      <td>24/01/2019</td>\n",
       "      <td>503029,00</td>\n",
       "      <td>35.0</td>\n",
       "      <td>AV</td>\n",
       "      <td>3520</td>\n",
       "      <td>FERDINAND BUISSON</td>\n",
       "      <td>75016.0</td>\n",
       "      <td>BOULOGNE-BILLANCOURT</td>\n",
       "      <td>92</td>\n",
       "      <td>12</td>\n",
       "      <td>55.0</td>\n",
       "      <td>3.0</td>\n",
       "    </tr>\n",
       "    <tr>\n",
       "      <th>922283</th>\n",
       "      <td>24/01/2019</td>\n",
       "      <td>791600,00</td>\n",
       "      <td>3.0</td>\n",
       "      <td>RUE</td>\n",
       "      <td>1480</td>\n",
       "      <td>DU CDT GUILBAUD A PARIS</td>\n",
       "      <td>75016.0</td>\n",
       "      <td>BOULOGNE-BILLANCOURT</td>\n",
       "      <td>92</td>\n",
       "      <td>12</td>\n",
       "      <td>90.0</td>\n",
       "      <td>4.0</td>\n",
       "    </tr>\n",
       "    <tr>\n",
       "      <th>922482</th>\n",
       "      <td>18/01/2019</td>\n",
       "      <td>607600,00</td>\n",
       "      <td>20.0</td>\n",
       "      <td>RUE</td>\n",
       "      <td>6660</td>\n",
       "      <td>NUNGESSER ET COLI</td>\n",
       "      <td>75016.0</td>\n",
       "      <td>BOULOGNE-BILLANCOURT</td>\n",
       "      <td>92</td>\n",
       "      <td>12</td>\n",
       "      <td>66.0</td>\n",
       "      <td>3.0</td>\n",
       "    </tr>\n",
       "    <tr>\n",
       "      <th>924012</th>\n",
       "      <td>15/03/2019</td>\n",
       "      <td>860000,00</td>\n",
       "      <td>30.0</td>\n",
       "      <td>RUE</td>\n",
       "      <td>6660</td>\n",
       "      <td>NUNGESSER ET COLI</td>\n",
       "      <td>75016.0</td>\n",
       "      <td>BOULOGNE-BILLANCOURT</td>\n",
       "      <td>92</td>\n",
       "      <td>12</td>\n",
       "      <td>105.0</td>\n",
       "      <td>3.0</td>\n",
       "    </tr>\n",
       "  </tbody>\n",
       "</table>\n",
       "</div>"
      ],
      "text/plain": [
       "       Date mutation Valeur fonciere No voie Type de voie Code voie  \\\n",
       "922095    16/01/2019       650000,00    25.0           AV      3520   \n",
       "922162    24/01/2019       503029,00    35.0           AV      3520   \n",
       "922283    24/01/2019       791600,00     3.0          RUE      1480   \n",
       "922482    18/01/2019       607600,00    20.0          RUE      6660   \n",
       "924012    15/03/2019       860000,00    30.0          RUE      6660   \n",
       "\n",
       "                           Voie Code postal               Commune  \\\n",
       "922095        FERDINAND BUISSON     75016.0  BOULOGNE-BILLANCOURT   \n",
       "922162        FERDINAND BUISSON     75016.0  BOULOGNE-BILLANCOURT   \n",
       "922283  DU CDT GUILBAUD A PARIS     75016.0  BOULOGNE-BILLANCOURT   \n",
       "922482        NUNGESSER ET COLI     75016.0  BOULOGNE-BILLANCOURT   \n",
       "924012        NUNGESSER ET COLI     75016.0  BOULOGNE-BILLANCOURT   \n",
       "\n",
       "       Code departement Code commune Surface reelle bati  \\\n",
       "922095               92           12                89.0   \n",
       "922162               92           12                55.0   \n",
       "922283               92           12                90.0   \n",
       "922482               92           12                66.0   \n",
       "924012               92           12               105.0   \n",
       "\n",
       "       Nombre pieces principales  \n",
       "922095                       3.0  \n",
       "922162                       3.0  \n",
       "922283                       4.0  \n",
       "922482                       3.0  \n",
       "924012                       3.0  "
      ]
     },
     "execution_count": 5,
     "metadata": {},
     "output_type": "execute_result"
    }
   ],
   "source": [
    "df_IleDeFrance.head()"
   ]
  },
  {
   "cell_type": "code",
   "execution_count": 6,
   "metadata": {},
   "outputs": [
    {
     "data": {
      "text/html": [
       "<div>\n",
       "<style scoped>\n",
       "    .dataframe tbody tr th:only-of-type {\n",
       "        vertical-align: middle;\n",
       "    }\n",
       "\n",
       "    .dataframe tbody tr th {\n",
       "        vertical-align: top;\n",
       "    }\n",
       "\n",
       "    .dataframe thead th {\n",
       "        text-align: right;\n",
       "    }\n",
       "</style>\n",
       "<table border=\"1\" class=\"dataframe\">\n",
       "  <thead>\n",
       "    <tr style=\"text-align: right;\">\n",
       "      <th></th>\n",
       "      <th>Date mutation</th>\n",
       "      <th>Valeur fonciere</th>\n",
       "      <th>No voie</th>\n",
       "      <th>Type de voie</th>\n",
       "      <th>Code voie</th>\n",
       "      <th>Voie</th>\n",
       "      <th>Code postal</th>\n",
       "      <th>Commune</th>\n",
       "      <th>Code departement</th>\n",
       "      <th>Code commune</th>\n",
       "      <th>Surface reelle bati</th>\n",
       "      <th>Nombre pieces principales</th>\n",
       "    </tr>\n",
       "  </thead>\n",
       "  <tbody>\n",
       "    <tr>\n",
       "      <th>995783</th>\n",
       "      <td>04/01/2019</td>\n",
       "      <td>1196000,00</td>\n",
       "      <td>17.0</td>\n",
       "      <td>RUE</td>\n",
       "      <td>2999</td>\n",
       "      <td>DUPHOT</td>\n",
       "      <td>75001.0</td>\n",
       "      <td>PARIS 01</td>\n",
       "      <td>75</td>\n",
       "      <td>101</td>\n",
       "      <td>112.0</td>\n",
       "      <td>3.0</td>\n",
       "    </tr>\n",
       "    <tr>\n",
       "      <th>996804</th>\n",
       "      <td>12/04/2019</td>\n",
       "      <td>2691110,00</td>\n",
       "      <td>15.0</td>\n",
       "      <td>RUE</td>\n",
       "      <td>2999</td>\n",
       "      <td>DUPHOT</td>\n",
       "      <td>75001.0</td>\n",
       "      <td>PARIS 01</td>\n",
       "      <td>75</td>\n",
       "      <td>101</td>\n",
       "      <td>160.0</td>\n",
       "      <td>0.0</td>\n",
       "    </tr>\n",
       "    <tr>\n",
       "      <th>996808</th>\n",
       "      <td>03/04/2019</td>\n",
       "      <td>540500,00</td>\n",
       "      <td>10.0</td>\n",
       "      <td>RUE</td>\n",
       "      <td>2999</td>\n",
       "      <td>DUPHOT</td>\n",
       "      <td>75001.0</td>\n",
       "      <td>PARIS 01</td>\n",
       "      <td>75</td>\n",
       "      <td>101</td>\n",
       "      <td>43.0</td>\n",
       "      <td>2.0</td>\n",
       "    </tr>\n",
       "    <tr>\n",
       "      <th>996809</th>\n",
       "      <td>03/04/2019</td>\n",
       "      <td>540500,00</td>\n",
       "      <td>10.0</td>\n",
       "      <td>RUE</td>\n",
       "      <td>2999</td>\n",
       "      <td>DUPHOT</td>\n",
       "      <td>75001.0</td>\n",
       "      <td>PARIS 01</td>\n",
       "      <td>75</td>\n",
       "      <td>101</td>\n",
       "      <td>45.0</td>\n",
       "      <td>2.0</td>\n",
       "    </tr>\n",
       "    <tr>\n",
       "      <th>996810</th>\n",
       "      <td>03/04/2019</td>\n",
       "      <td>439500,00</td>\n",
       "      <td>10.0</td>\n",
       "      <td>RUE</td>\n",
       "      <td>2999</td>\n",
       "      <td>DUPHOT</td>\n",
       "      <td>75001.0</td>\n",
       "      <td>PARIS 01</td>\n",
       "      <td>75</td>\n",
       "      <td>101</td>\n",
       "      <td>37.0</td>\n",
       "      <td>0.0</td>\n",
       "    </tr>\n",
       "    <tr>\n",
       "      <th>996811</th>\n",
       "      <td>03/04/2019</td>\n",
       "      <td>439500,00</td>\n",
       "      <td>10.0</td>\n",
       "      <td>RUE</td>\n",
       "      <td>2999</td>\n",
       "      <td>DUPHOT</td>\n",
       "      <td>75001.0</td>\n",
       "      <td>PARIS 01</td>\n",
       "      <td>75</td>\n",
       "      <td>101</td>\n",
       "      <td>43.0</td>\n",
       "      <td>2.0</td>\n",
       "    </tr>\n",
       "    <tr>\n",
       "      <th>997406</th>\n",
       "      <td>21/05/2019</td>\n",
       "      <td>434000,00</td>\n",
       "      <td>19.0</td>\n",
       "      <td>RUE</td>\n",
       "      <td>2999</td>\n",
       "      <td>DUPHOT</td>\n",
       "      <td>75001.0</td>\n",
       "      <td>PARIS 01</td>\n",
       "      <td>75</td>\n",
       "      <td>101</td>\n",
       "      <td>92.0</td>\n",
       "      <td>0.0</td>\n",
       "    </tr>\n",
       "    <tr>\n",
       "      <th>997407</th>\n",
       "      <td>21/05/2019</td>\n",
       "      <td>434000,00</td>\n",
       "      <td>19.0</td>\n",
       "      <td>RUE</td>\n",
       "      <td>2999</td>\n",
       "      <td>DUPHOT</td>\n",
       "      <td>75001.0</td>\n",
       "      <td>PARIS 01</td>\n",
       "      <td>75</td>\n",
       "      <td>101</td>\n",
       "      <td>0.0</td>\n",
       "      <td>0.0</td>\n",
       "    </tr>\n",
       "    <tr>\n",
       "      <th>997408</th>\n",
       "      <td>21/05/2019</td>\n",
       "      <td>148000,00</td>\n",
       "      <td>19.0</td>\n",
       "      <td>RUE</td>\n",
       "      <td>2999</td>\n",
       "      <td>DUPHOT</td>\n",
       "      <td>75001.0</td>\n",
       "      <td>PARIS 01</td>\n",
       "      <td>75</td>\n",
       "      <td>101</td>\n",
       "      <td>91.0</td>\n",
       "      <td>0.0</td>\n",
       "    </tr>\n",
       "    <tr>\n",
       "      <th>4016535</th>\n",
       "      <td>29/06/2018</td>\n",
       "      <td>50000,00</td>\n",
       "      <td>17.0</td>\n",
       "      <td>RUE</td>\n",
       "      <td>2999</td>\n",
       "      <td>DUPHOT</td>\n",
       "      <td>75001.0</td>\n",
       "      <td>PARIS 01</td>\n",
       "      <td>75</td>\n",
       "      <td>101</td>\n",
       "      <td>0.0</td>\n",
       "      <td>0.0</td>\n",
       "    </tr>\n",
       "    <tr>\n",
       "      <th>4017503</th>\n",
       "      <td>24/09/2018</td>\n",
       "      <td>2200000,00</td>\n",
       "      <td>15.0</td>\n",
       "      <td>RUE</td>\n",
       "      <td>2999</td>\n",
       "      <td>DUPHOT</td>\n",
       "      <td>75001.0</td>\n",
       "      <td>PARIS 01</td>\n",
       "      <td>75</td>\n",
       "      <td>101</td>\n",
       "      <td>160.0</td>\n",
       "      <td>5.0</td>\n",
       "    </tr>\n",
       "    <tr>\n",
       "      <th>4017504</th>\n",
       "      <td>24/09/2018</td>\n",
       "      <td>2200000,00</td>\n",
       "      <td>15.0</td>\n",
       "      <td>RUE</td>\n",
       "      <td>2999</td>\n",
       "      <td>DUPHOT</td>\n",
       "      <td>75001.0</td>\n",
       "      <td>PARIS 01</td>\n",
       "      <td>75</td>\n",
       "      <td>101</td>\n",
       "      <td>0.0</td>\n",
       "      <td>0.0</td>\n",
       "    </tr>\n",
       "    <tr>\n",
       "      <th>4017505</th>\n",
       "      <td>24/09/2018</td>\n",
       "      <td>2200000,00</td>\n",
       "      <td>15.0</td>\n",
       "      <td>RUE</td>\n",
       "      <td>2999</td>\n",
       "      <td>DUPHOT</td>\n",
       "      <td>75001.0</td>\n",
       "      <td>PARIS 01</td>\n",
       "      <td>75</td>\n",
       "      <td>101</td>\n",
       "      <td>0.0</td>\n",
       "      <td>0.0</td>\n",
       "    </tr>\n",
       "    <tr>\n",
       "      <th>4018099</th>\n",
       "      <td>26/10/2018</td>\n",
       "      <td>35000000,00</td>\n",
       "      <td>3.0</td>\n",
       "      <td>RUE</td>\n",
       "      <td>2999</td>\n",
       "      <td>DUPHOT</td>\n",
       "      <td>75001.0</td>\n",
       "      <td>PARIS 01</td>\n",
       "      <td>75</td>\n",
       "      <td>101</td>\n",
       "      <td>147.0</td>\n",
       "      <td>0.0</td>\n",
       "    </tr>\n",
       "    <tr>\n",
       "      <th>4018114</th>\n",
       "      <td>16/10/2018</td>\n",
       "      <td>870000,00</td>\n",
       "      <td>10.0</td>\n",
       "      <td>RUE</td>\n",
       "      <td>2999</td>\n",
       "      <td>DUPHOT</td>\n",
       "      <td>75001.0</td>\n",
       "      <td>PARIS 01</td>\n",
       "      <td>75</td>\n",
       "      <td>101</td>\n",
       "      <td>39.0</td>\n",
       "      <td>2.0</td>\n",
       "    </tr>\n",
       "    <tr>\n",
       "      <th>7388695</th>\n",
       "      <td>27/02/2017</td>\n",
       "      <td>2480000,00</td>\n",
       "      <td>1.0</td>\n",
       "      <td>RUE</td>\n",
       "      <td>2999</td>\n",
       "      <td>DUPHOT</td>\n",
       "      <td>75001.0</td>\n",
       "      <td>PARIS 01</td>\n",
       "      <td>75</td>\n",
       "      <td>101</td>\n",
       "      <td>119.0</td>\n",
       "      <td>4.0</td>\n",
       "    </tr>\n",
       "    <tr>\n",
       "      <th>7388866</th>\n",
       "      <td>24/02/2017</td>\n",
       "      <td>565000,00</td>\n",
       "      <td>10.0</td>\n",
       "      <td>RUE</td>\n",
       "      <td>2999</td>\n",
       "      <td>DUPHOT</td>\n",
       "      <td>75001.0</td>\n",
       "      <td>PARIS 01</td>\n",
       "      <td>75</td>\n",
       "      <td>101</td>\n",
       "      <td>48.0</td>\n",
       "      <td>2.0</td>\n",
       "    </tr>\n",
       "  </tbody>\n",
       "</table>\n",
       "</div>"
      ],
      "text/plain": [
       "        Date mutation Valeur fonciere No voie Type de voie Code voie    Voie  \\\n",
       "995783     04/01/2019      1196000,00    17.0          RUE      2999  DUPHOT   \n",
       "996804     12/04/2019      2691110,00    15.0          RUE      2999  DUPHOT   \n",
       "996808     03/04/2019       540500,00    10.0          RUE      2999  DUPHOT   \n",
       "996809     03/04/2019       540500,00    10.0          RUE      2999  DUPHOT   \n",
       "996810     03/04/2019       439500,00    10.0          RUE      2999  DUPHOT   \n",
       "996811     03/04/2019       439500,00    10.0          RUE      2999  DUPHOT   \n",
       "997406     21/05/2019       434000,00    19.0          RUE      2999  DUPHOT   \n",
       "997407     21/05/2019       434000,00    19.0          RUE      2999  DUPHOT   \n",
       "997408     21/05/2019       148000,00    19.0          RUE      2999  DUPHOT   \n",
       "4016535    29/06/2018        50000,00    17.0          RUE      2999  DUPHOT   \n",
       "4017503    24/09/2018      2200000,00    15.0          RUE      2999  DUPHOT   \n",
       "4017504    24/09/2018      2200000,00    15.0          RUE      2999  DUPHOT   \n",
       "4017505    24/09/2018      2200000,00    15.0          RUE      2999  DUPHOT   \n",
       "4018099    26/10/2018     35000000,00     3.0          RUE      2999  DUPHOT   \n",
       "4018114    16/10/2018       870000,00    10.0          RUE      2999  DUPHOT   \n",
       "7388695    27/02/2017      2480000,00     1.0          RUE      2999  DUPHOT   \n",
       "7388866    24/02/2017       565000,00    10.0          RUE      2999  DUPHOT   \n",
       "\n",
       "        Code postal   Commune Code departement Code commune  \\\n",
       "995783      75001.0  PARIS 01               75          101   \n",
       "996804      75001.0  PARIS 01               75          101   \n",
       "996808      75001.0  PARIS 01               75          101   \n",
       "996809      75001.0  PARIS 01               75          101   \n",
       "996810      75001.0  PARIS 01               75          101   \n",
       "996811      75001.0  PARIS 01               75          101   \n",
       "997406      75001.0  PARIS 01               75          101   \n",
       "997407      75001.0  PARIS 01               75          101   \n",
       "997408      75001.0  PARIS 01               75          101   \n",
       "4016535     75001.0  PARIS 01               75          101   \n",
       "4017503     75001.0  PARIS 01               75          101   \n",
       "4017504     75001.0  PARIS 01               75          101   \n",
       "4017505     75001.0  PARIS 01               75          101   \n",
       "4018099     75001.0  PARIS 01               75          101   \n",
       "4018114     75001.0  PARIS 01               75          101   \n",
       "7388695     75001.0  PARIS 01               75          101   \n",
       "7388866     75001.0  PARIS 01               75          101   \n",
       "\n",
       "        Surface reelle bati Nombre pieces principales  \n",
       "995783                112.0                       3.0  \n",
       "996804                160.0                       0.0  \n",
       "996808                 43.0                       2.0  \n",
       "996809                 45.0                       2.0  \n",
       "996810                 37.0                       0.0  \n",
       "996811                 43.0                       2.0  \n",
       "997406                 92.0                       0.0  \n",
       "997407                  0.0                       0.0  \n",
       "997408                 91.0                       0.0  \n",
       "4016535                 0.0                       0.0  \n",
       "4017503               160.0                       5.0  \n",
       "4017504                 0.0                       0.0  \n",
       "4017505                 0.0                       0.0  \n",
       "4018099               147.0                       0.0  \n",
       "4018114                39.0                       2.0  \n",
       "7388695               119.0                       4.0  \n",
       "7388866                48.0                       2.0  "
      ]
     },
     "execution_count": 6,
     "metadata": {},
     "output_type": "execute_result"
    }
   ],
   "source": [
    "df_IleDeFrance[df_IleDeFrance['Voie']=='DUPHOT']"
   ]
  },
  {
   "cell_type": "markdown",
   "metadata": {},
   "source": [
    "# Read final data file as RDD // pyspark"
   ]
  },
  {
   "cell_type": "code",
   "execution_count": 7,
   "metadata": {},
   "outputs": [],
   "source": [
    "file_france = sc.textFile(\"valeurs_foncieres_joined.csv\")"
   ]
  },
  {
   "cell_type": "code",
   "execution_count": 8,
   "metadata": {},
   "outputs": [],
   "source": [
    "future_pattern = re.compile(\"\"\"([^,\"]+|\"[^\"]+\")(?=,|$)\"\"\")\n",
    "\n",
    "def parseCSV(line):\n",
    "    return future_pattern.findall(line)"
   ]
  },
  {
   "cell_type": "code",
   "execution_count": 9,
   "metadata": {},
   "outputs": [],
   "source": [
    "data_France = file_france.map(parseCSV).filter(lambda x: x[0]!=\"Date mutation\")"
   ]
  },
  {
   "cell_type": "code",
   "execution_count": 10,
   "metadata": {},
   "outputs": [],
   "source": [
    "iledefrance_pattern=re.compile(\"\"\"^75[0-9]{3}..\"\"\")\n",
    "data_IleDeFrance=data_France.filter(lambda x: iledefrance_pattern.findall(x[6]))"
   ]
  },
  {
   "cell_type": "code",
   "execution_count": 11,
   "metadata": {},
   "outputs": [],
   "source": [
    "data_IleDeFrance_map=data_IleDeFrance.map(lambda x: ((x[2],x[3],x[5],x[7],x[6]),(x[0],float(x[1].replace(\"\\\"\",\"\").replace(\",\",\".\")),float(x[10])))).filter(lambda x: x[1][2]!='0.0')"
   ]
  },
  {
   "cell_type": "code",
   "execution_count": 12,
   "metadata": {},
   "outputs": [
    {
     "data": {
      "text/plain": [
       "146878"
      ]
     },
     "execution_count": 12,
     "metadata": {},
     "output_type": "execute_result"
    }
   ],
   "source": [
    "data_IleDeFrance_map.cache().count()"
   ]
  },
  {
   "cell_type": "code",
   "execution_count": 13,
   "metadata": {},
   "outputs": [
    {
     "data": {
      "text/plain": [
       "[(('25.0', 'AV', 'FERDINAND BUISSON', 'BOULOGNE-BILLANCOURT', '75016.0'),\n",
       "  ('16/01/2019', 650000.0, 89.0)),\n",
       " (('35.0', 'AV', 'FERDINAND BUISSON', 'BOULOGNE-BILLANCOURT', '75016.0'),\n",
       "  ('24/01/2019', 503029.0, 55.0)),\n",
       " (('3.0', 'RUE', 'DU CDT GUILBAUD A PARIS', 'BOULOGNE-BILLANCOURT', '75016.0'),\n",
       "  ('24/01/2019', 791600.0, 90.0)),\n",
       " (('20.0', 'RUE', 'NUNGESSER ET COLI', 'BOULOGNE-BILLANCOURT', '75016.0'),\n",
       "  ('18/01/2019', 607600.0, 66.0)),\n",
       " (('30.0', 'RUE', 'NUNGESSER ET COLI', 'BOULOGNE-BILLANCOURT', '75016.0'),\n",
       "  ('15/03/2019', 860000.0, 105.0))]"
      ]
     },
     "execution_count": 13,
     "metadata": {},
     "output_type": "execute_result"
    }
   ],
   "source": [
    "data_IleDeFrance_map.take(5)"
   ]
  },
  {
   "cell_type": "code",
   "execution_count": 14,
   "metadata": {},
   "outputs": [],
   "source": [
    "list_arrondissements=df_IleDeFrance['Code postal'].unique()"
   ]
  },
  {
   "cell_type": "code",
   "execution_count": 15,
   "metadata": {},
   "outputs": [
    {
     "name": "stdout",
     "output_type": "stream",
     "text": [
      "75016.0  :  15455\n",
      "75015.0  :  9254\n",
      "75001.0  :  1730\n",
      "75003.0  :  3226\n",
      "75008.0  :  5611\n",
      "75006.0  :  3569\n",
      "75007.0  :  4554\n",
      "75005.0  :  3239\n",
      "75009.0  :  5966\n",
      "75010.0  :  7957\n",
      "75011.0  :  9275\n",
      "75012.0  :  6953\n",
      "75013.0  :  6936\n",
      "75014.0  :  8904\n",
      "75017.0  :  13760\n",
      "75018.0  :  15296\n",
      "75020.0  :  9201\n",
      "75019.0  :  10522\n",
      "75004.0  :  2843\n",
      "75002.0  :  2627\n"
     ]
    }
   ],
   "source": [
    "for arrondissement in list_arrondissements:\n",
    "    data_arrondissement=data_IleDeFrance_map.filter(lambda x: arrondissement==x[0][4])\n",
    "    print(arrondissement, ' : ',data_arrondissement.count())"
   ]
  },
  {
   "cell_type": "markdown",
   "metadata": {},
   "source": [
    "# Get long/lat from address with GeocoderApi"
   ]
  },
  {
   "cell_type": "markdown",
   "metadata": {},
   "source": [
    "### Test on single request"
   ]
  },
  {
   "cell_type": "code",
   "execution_count": 18,
   "metadata": {},
   "outputs": [],
   "source": [
    "# API init with Key\n",
    "geocoderApi = herepy.GeocoderApi('8UDt2_0vw7gJ2ffM2I2I17GIzMz5e8H980InYedeLcU')\n",
    "\n",
    "# s5tGP7hB1Md6T9HzvUm72xqF87Dur5vE119ARWilHPk    // guillaume_lehericy@hotmail.fr\n",
    "# 8UDt2_0vw7gJ2ffM2I2I17GIzMz5e8H980InYedeLcU"
   ]
  },
  {
   "cell_type": "code",
   "execution_count": 19,
   "metadata": {},
   "outputs": [
    {
     "data": {
      "text/plain": [
       "15455"
      ]
     },
     "execution_count": 19,
     "metadata": {},
     "output_type": "execute_result"
    }
   ],
   "source": [
    "arron='75016.0'\n",
    "# test_arron.unpersist()\n",
    "test_arron=data_IleDeFrance_map.filter(lambda x: arron==x[0][4])\n",
    "test_arron.cache().count()"
   ]
  },
  {
   "cell_type": "code",
   "execution_count": 20,
   "metadata": {},
   "outputs": [
    {
     "data": {
      "text/plain": [
       "[(('25.0', 'AV', 'FERDINAND BUISSON', 'BOULOGNE-BILLANCOURT', '75016.0'),\n",
       "  ('16/01/2019', 650000.0, 89.0))]"
      ]
     },
     "execution_count": 20,
     "metadata": {},
     "output_type": "execute_result"
    }
   ],
   "source": [
    "first_item=test_arron.take(1)\n",
    "first_item"
   ]
  },
  {
   "cell_type": "markdown",
   "metadata": {},
   "source": [
    "### If request correct"
   ]
  },
  {
   "cell_type": "code",
   "execution_count": 21,
   "metadata": {},
   "outputs": [
    {
     "name": "stdout",
     "output_type": "stream",
     "text": [
      "{\"Response\": {\"MetaInfo\": {\"Timestamp\": \"2020-01-10T13:04:40.340+0000\"}, \"View\": [{\"Result\": [{\"Location\": {\"Address\": {\"AdditionalData\": [{\"key\": \"CountryName\", \"value\": \"France\"}, {\"key\": \"StateName\", \"value\": \"\\u00cele-de-France\"}, {\"key\": \"CountyName\", \"value\": \"Hauts-de-Seine\"}], \"City\": \"Boulogne-Billancourt\", \"Country\": \"FRA\", \"County\": \"Hauts-de-Seine\", \"HouseNumber\": \"25\", \"Label\": \"25 Avenue Ferdinand Buisson, 92100 Boulogne-Billancourt, France\", \"PostalCode\": \"92100\", \"State\": \"\\u00cele-de-France\", \"Street\": \"Avenue Ferdinand Buisson\"}, \"DisplayPosition\": {\"Latitude\": 48.8372, \"Longitude\": 2.2531}, \"LocationId\": \"NT_Vg-CxxRerWzRR2eTu5a.jA_yUD\", \"LocationType\": \"point\", \"MapView\": {\"BottomRight\": {\"Latitude\": 48.8360758, \"Longitude\": 2.2548079}, \"TopLeft\": {\"Latitude\": 48.8383242, \"Longitude\": 2.2513921}}, \"NavigationPosition\": [{\"Latitude\": 48.83725, \"Longitude\": 2.25324}]}, \"MatchLevel\": \"houseNumber\", \"MatchQuality\": {\"City\": 1.0, \"Country\": 1.0, \"HouseNumber\": 1.0, \"Street\": [0.9]}, \"MatchType\": \"pointAddress\", \"Relevance\": 0.95}], \"ViewId\": 0, \"_type\": \"SearchResultsViewType\"}]}}\n"
     ]
    }
   ],
   "source": [
    "response = geocoderApi.address_with_details(first_item[0][0][0],first_item[0][0][2] ,first_item[0][0][3],'France')\n",
    "print(response)"
   ]
  },
  {
   "cell_type": "markdown",
   "metadata": {},
   "source": [
    "### If request wrong (no return)"
   ]
  },
  {
   "cell_type": "code",
   "execution_count": 22,
   "metadata": {},
   "outputs": [
    {
     "name": "stdout",
     "output_type": "stream",
     "text": [
      "{\"Response\": {\"MetaInfo\": {\"Timestamp\": \"2020-01-12T15:43:24.140+0000\"}, \"View\": []}}\n"
     ]
    }
   ],
   "source": [
    "response = geocoderApi.address_with_details(first_item[0][0][0],first_item[0][0][2] ,'random','France')\n",
    "print(response)"
   ]
  },
  {
   "cell_type": "markdown",
   "metadata": {},
   "source": [
    "#### We had to identify both cases in order to deal with missing info"
   ]
  },
  {
   "cell_type": "markdown",
   "metadata": {},
   "source": [
    "# Retrieve all coord for items in Ile de France"
   ]
  },
  {
   "cell_type": "code",
   "execution_count": 23,
   "metadata": {},
   "outputs": [],
   "source": [
    "# Request api for each rows in RDD\n",
    "def geoLoca(x):\n",
    "    return x[0][0],x[0][1],x[0][2],x[0][3],x[0][4], x[1][0], x[1][1], x[1][2], geocoderApi.address_with_details(x[0][0],x[0][2] ,x[0][3],'France').as_dict()\n",
    "\n",
    "# Retrieve only Lat and Long from API response\n",
    "def getOnlyLatLong(x):\n",
    "    try:\n",
    "        lat=x[8]['Response']['View'][0]['Result'][0]['Location']['DisplayPosition']['Latitude']\n",
    "        long=x[8]['Response']['View'][0]['Result'][0]['Location']['DisplayPosition']['Longitude']\n",
    "        return x[0], x[1], x[2], x[3],x[4],x[5],x[6],x[7],lat,long\n",
    "    except:\n",
    "        try:\n",
    "            return x[0], x[1], x[2], x[3],x[4],x[5],x[6],x[7],0,0\n",
    "        except:\n",
    "            return x\n"
   ]
  },
  {
   "cell_type": "code",
   "execution_count": 24,
   "metadata": {},
   "outputs": [
    {
     "name": "stdout",
     "output_type": "stream",
     "text": [
      "75011.0  ,  9275 time.struct_time(tm_year=2020, tm_mon=1, tm_mday=12, tm_hour=20, tm_min=25, tm_sec=21, tm_wday=6, tm_yday=12, tm_isdst=0)\n",
      "75011.0  ,  9275  :  0.1318980000000014\n",
      "75012.0  ,  6953 time.struct_time(tm_year=2020, tm_mon=1, tm_mday=12, tm_hour=20, tm_min=39, tm_sec=19, tm_wday=6, tm_yday=12, tm_isdst=0)\n",
      "75012.0  ,  6953  :  0.11816866100000034\n",
      "75013.0  ,  6936 time.struct_time(tm_year=2020, tm_mon=1, tm_mday=12, tm_hour=20, tm_min=50, tm_sec=36, tm_wday=6, tm_yday=12, tm_isdst=0)\n",
      "75013.0  ,  6936  :  0.10023059000000067\n",
      "75014.0  ,  8904 time.struct_time(tm_year=2020, tm_mon=1, tm_mday=12, tm_hour=21, tm_min=0, tm_sec=53, tm_wday=6, tm_yday=12, tm_isdst=0)\n",
      "75014.0  ,  8904  :  0.14788003900000035\n",
      "75017.0  ,  13760 time.struct_time(tm_year=2020, tm_mon=1, tm_mday=12, tm_hour=21, tm_min=15, tm_sec=50, tm_wday=6, tm_yday=12, tm_isdst=0)\n",
      "75017.0  ,  13760  :  0.2134044700000004\n",
      "75018.0  ,  15296 time.struct_time(tm_year=2020, tm_mon=1, tm_mday=12, tm_hour=21, tm_min=38, tm_sec=34, tm_wday=6, tm_yday=12, tm_isdst=0)\n",
      "75018.0  ,  15296  :  0.20801423600000035\n",
      "75020.0  ,  9201 time.struct_time(tm_year=2020, tm_mon=1, tm_mday=12, tm_hour=21, tm_min=59, tm_sec=35, tm_wday=6, tm_yday=12, tm_isdst=0)\n",
      "75020.0  ,  9201  :  0.15402410899999985\n",
      "75019.0  ,  10522 time.struct_time(tm_year=2020, tm_mon=1, tm_mday=12, tm_hour=22, tm_min=9, tm_sec=33, tm_wday=6, tm_yday=12, tm_isdst=0)\n",
      "75019.0  ,  10522  :  0.17769891600000065\n",
      "75004.0  ,  2843 time.struct_time(tm_year=2020, tm_mon=1, tm_mday=12, tm_hour=22, tm_min=25, tm_sec=4, tm_wday=6, tm_yday=12, tm_isdst=0)\n",
      "75004.0  ,  2843  :  0.09365647799999977\n",
      "75002.0  ,  2627 time.struct_time(tm_year=2020, tm_mon=1, tm_mday=12, tm_hour=22, tm_min=30, tm_sec=14, tm_wday=6, tm_yday=12, tm_isdst=0)\n",
      "75002.0  ,  2627  :  0.07415120799999997\n"
     ]
    }
   ],
   "source": [
    "# for each 'arrondissement', request API (high chances to crash if all requested at once so we divided the work in order to not start from scratch if error / take a long time to run)\n",
    "for arrondissement in list_arrondissements:\n",
    "    if not os.path.exists('arrondissement/' + arrondissement):\n",
    "        start=time.process_time()\n",
    "        print(arrondissement, ' , ', data_IleDeFrance_map.filter(lambda x: arrondissement==x[0][4]).count(), time.localtime())\n",
    "        data_arrondissement=data_IleDeFrance_map.filter(lambda x: arrondissement==x[0][4])\n",
    "        data_geo=data_arrondissement.map(lambda x: geoLoca(x)).map(lambda x: getOnlyLatLong(x))\n",
    "        data_geo.cache().collect()\n",
    "        data_geo.saveAsTextFile('arrondissement/' + arrondissement)\n",
    "        print(arrondissement, ' , ', data_geo.count(),' : ', time.process_time()-start)"
   ]
  },
  {
   "cell_type": "markdown",
   "metadata": {},
   "source": [
    "# Read saved files of all 'arrondissement'"
   ]
  },
  {
   "cell_type": "code",
   "execution_count": 20,
   "metadata": {},
   "outputs": [],
   "source": [
    "# retrieve all folders in 'arrondissement' and then read them\n",
    "list_arrondissement_path=list()\n",
    "for item in os.listdir('arrondissement'):\n",
    "    list_arrondissement_path.append('arrondissement/'+item)\n",
    "data=sc.textFile(','.join(list_arrondissement_path))"
   ]
  },
  {
   "cell_type": "code",
   "execution_count": 21,
   "metadata": {},
   "outputs": [],
   "source": [
    "data=data.map(parseCSV)"
   ]
  },
  {
   "cell_type": "code",
   "execution_count": 22,
   "metadata": {},
   "outputs": [],
   "source": [
    "# read json polygons \n",
    "with open('quartier_paris.geojson') as json_file:\n",
    "    quartier_info = json.load(json_file)\n",
    "\n",
    "# check if localisation belongs to one of the polygons\n",
    "def returnQuartier(x):\n",
    "    list_return=list()\n",
    "    for item in x:\n",
    "        list_return.append(item.replace('(', '').replace(')', '').replace(\"'\",\"\").replace(' ',''))\n",
    "    for neighbor in quartier_info['features']:\n",
    "        polygon = Polygon(neighbor['geometry']['coordinates'][0]) # create polygon\n",
    "        point = Point(float(x[9].replace(' ','').replace(')','')),float(x[8].replace(' ','')))\n",
    "        if polygon.contains(point):\n",
    "            list_return.append(neighbor['properties']['l_qu'])\n",
    "            return list_return\n",
    "    list_return.append('NaN')\n",
    "    return list_return"
   ]
  },
  {
   "cell_type": "code",
   "execution_count": 23,
   "metadata": {},
   "outputs": [
    {
     "data": {
      "text/plain": [
       "[['32.0',\n",
       "  'RUE',\n",
       "  'SAUSSURE',\n",
       "  'PARIS17',\n",
       "  '75017.0',\n",
       "  '09/01/2017',\n",
       "  '571000.0',\n",
       "  '59.0',\n",
       "  '48.88446',\n",
       "  '2.31607',\n",
       "  'Batignolles'],\n",
       " ['171.0',\n",
       "  'RUE',\n",
       "  'LEGENDRE',\n",
       "  'PARIS17',\n",
       "  '75017.0',\n",
       "  '06/01/2017',\n",
       "  '210000.0',\n",
       "  '30.0',\n",
       "  '48.89153',\n",
       "  '2.32563',\n",
       "  'Epinettes']]"
      ]
     },
     "execution_count": 23,
     "metadata": {},
     "output_type": "execute_result"
    }
   ],
   "source": [
    "with_neigbhor=data.map(lambda x: returnQuartier(x))\n",
    "with_neigbhor.take(2)"
   ]
  },
  {
   "cell_type": "code",
   "execution_count": 24,
   "metadata": {},
   "outputs": [
    {
     "data": {
      "text/plain": [
       "[('1/2017', 9677.966101694916),\n",
       " ('1/2017', 7000.0),\n",
       " ('1/2017', 7272.727272727273)]"
      ]
     },
     "execution_count": 24,
     "metadata": {},
     "output_type": "execute_result"
    }
   ],
   "source": [
    "test=data.map(lambda x: returnQuartier(x)).map(lambda x: returnQuartier(x)).filter(lambda x: float(x[6])!=0 and float(x[7])!=0).map(lambda x: (str(datetime.datetime.strptime(x[5], \"%d/%m/%Y\").month) + '/' + str(datetime.datetime.strptime(x[5], \"%d/%m/%Y\").year),float(x[6])/float(x[7])))\n",
    "test.take(3)"
   ]
  },
  {
   "cell_type": "code",
   "execution_count": 25,
   "metadata": {},
   "outputs": [
    {
     "data": {
      "text/plain": [
       "[('Saint-Gervais', (1022177282.2, 39336.0, 758)),\n",
       " ('Batignolles', (4172587815.63, 157231.0, 2685)),\n",
       " ('Gare', (2530983561.4700003, 109291.0, 1380)),\n",
       " ('La Chapelle', (3267770059.73, 81298.0, 1227)),\n",
       " ('Pont-de-Flandre', (1210814087.4599998, 63560.0, 852)),\n",
       " ('Saint-Vincent-de-Paul', (677408867.99, 58752.0, 1001)),\n",
       " ('Auteuil', (3160521035.91, 252718.0, 3543)),\n",
       " ('Petit-Montrouge', (1330424707.3599997, 112280.0, 1943)),\n",
       " ('Europe', (8489775462.81, 159125.0, 1365)),\n",
       " ('Sainte-Marguerite', (1121258575.27, 67488.0, 1256)),\n",
       " ('Montparnasse', (2088615716.76, 67485.0, 1077)),\n",
       " ('Clignancourt', (4251286244.829999, 251958.0, 5052)),\n",
       " ('Père-Lachaise', (973676046.46, 86413.0, 1824)),\n",
       " ('Mail', (4077192480.8199997, 78994.0, 799)),\n",
       " ('Arts-et-Métiers', (591727724.05, 56305.0, 1073)),\n",
       " ('Grenelle', (2138371131.79, 113073.0, 1584)),\n",
       " ('Notre-Dame', (436979203.0, 19160.0, 262)),\n",
       " ('Madeleine', (3887107943.6, 81555.0, 728)),\n",
       " ('Place-Vendôme', (4156316156.12, 39770.0, 289)),\n",
       " ('Sorbonne', (868185387.54, 28758.0, 540)),\n",
       " ('Bel-Air', (1677691091.15, 63579.0, 1169)),\n",
       " ('Saint-Ambroise', (2959569375.0, 109671.0, 1717)),\n",
       " ('Saint-Victor', (758541729.1, 32763.0, 624)),\n",
       " ('Salpêtrière', (13000408715.730001, 35251.0, 752)),\n",
       " ('Notre-Dame-des-Champs', (1584606435.69, 92588.0, 1390)),\n",
       " ('Gros-Caillou', (10092712026.57, 105154.0, 1405)),\n",
       " ('Bonne-Nouvelle', (2203028212.04, 88263.0, 1424)),\n",
       " ('Javel', (1522680083.4999995, 79263.0, 1265)),\n",
       " ('Villette', (5385066645.330003, 112919.0, 2226)),\n",
       " ('Sainte-Avoie', (1129497692.62, 65316.0, 841)),\n",
       " ('Quinze-Vingts', (60517537506.13, 68714.0, 1075)),\n",
       " (\"Saint-Thomas-d'Aquin\", (2283651122.8, 64422.0, 698)),\n",
       " ('Saint-Germain-des-Prés', (544100908.62, 30599.0, 376)),\n",
       " ('Porte-Saint-Denis', (1276022819.3400002, 76487.0, 1160)),\n",
       " ('Saint-Georges', (16317705273.769999, 143089.0, 1643)),\n",
       " ('NaN', (470389571.94, 36775.0, 466)),\n",
       " ('Monnaie', (428690609.51, 30058.0, 580)),\n",
       " ('Archives', (872762827.3799999, 45205.0, 731)),\n",
       " ('Roquette', (47562024207.25999, 118089.0, 2158)),\n",
       " (\"Chaussée-d'Antin\", (10113948540.720001, 90028.0, 379)),\n",
       " ('Combat', (2374642469.47, 103403.0, 1964)),\n",
       " ('Saint-Merri', (2412211434.38, 30382.0, 530)),\n",
       " ('Croulebarbe', (581094006.1800001, 36418.0, 736)),\n",
       " ('Hôpital-Saint-Louis', (693512370.68, 59954.0, 1279)),\n",
       " ('Necker', (4713257042.02, 151373.0, 1399)),\n",
       " ('Rochechouart', (1066465334.1999999, 88713.0, 1557)),\n",
       " ('Porte-Saint-Martin', (1103712892.34, 99446.0, 1392)),\n",
       " ('Chaillot', (3338514343.76, 189362.0, 1498)),\n",
       " ('Saint-Lambert', (5282201383.21, 130499.0, 2501)),\n",
       " ('Faubourg-du-Roule', (35702266451.83, 170918.0, 1157)),\n",
       " ('Porte-Dauphine', (4562160269.620001, 173228.0, 1754)),\n",
       " ('Muette', (6568558381.48, 253526.0, 2515)),\n",
       " ('Jardin-des-Plantes', (1040987948.14, 43152.0, 850)),\n",
       " ('Champs-Elysées', (12463025008.01, 83827.0, 578)),\n",
       " ('Plaine de Monceaux', (25765547876.829998, 241273.0, 2122)),\n",
       " ('Charonne', (1092346394.43, 96080.0, 1961)),\n",
       " ('Saint-Fargeau', (581341004.14, 73052.0, 1424)),\n",
       " ('Odéon', (536566374.34000003, 31811.0, 480)),\n",
       " ('Epinettes', (3365159672.37, 124655.0, 2659)),\n",
       " ('Arsenal', (1533165137.4300003, 42279.0, 632)),\n",
       " ('Invalides', (4948450740.950001, 46545.0, 392)),\n",
       " ('Parc-de-Montsouris', (6066536566.889999, 55145.0, 704)),\n",
       " ('Folie-Méricourt', (28420205296.24, 89390.0, 1688)),\n",
       " ('Gaillon', (2764569629.0, 31885.0, 225)),\n",
       " ('Maison-Blanche', (2947950527.64, 145706.0, 2011)),\n",
       " ('Faubourg-Montmartre', (3070316722.2800007, 74030.0, 880)),\n",
       " ('Enfants-Rouges', (1265765266.45, 57426.0, 930)),\n",
       " ('Belleville', (933322692.26, 74239.0, 1512)),\n",
       " ('Vivienne', (2822761610.0, 67210.0, 265)),\n",
       " ('Halles', (4990056759.05, 63199.0, 1099)),\n",
       " ('Grandes-Carrières', (3066347543.87, 211323.0, 4294)),\n",
       " ('Ecole-Militaire', (1017883240.5799999, 53014.0, 566)),\n",
       " ('Amérique', (2144287655.57, 124016.0, 1783)),\n",
       " ('Palais-Royal', (1537140684.49, 26545.0, 381)),\n",
       " ('Bercy', (2702882725.12, 24232.0, 448)),\n",
       " (\"Saint-Germain-l'Auxerrois\", (133099279.77, 8015.0, 93)),\n",
       " ('Ternes', (15178646014.21, 248715.0, 2544)),\n",
       " ('Val-de-Grâce', (756650278.76, 47194.0, 765)),\n",
       " ('Picpus', (74016050000.17, 134411.0, 2222)),\n",
       " ('Plaisance', (10196990778.52, 127483.0, 2503)),\n",
       " (\"Goutte-d'Or\", (666858727.99, 66608.0, 1443))]"
      ]
     },
     "execution_count": 25,
     "metadata": {},
     "output_type": "execute_result"
    }
   ],
   "source": [
    "sum_neigbhor=data.map(lambda x: returnQuartier(x)).filter(lambda x: float(x[6])!=0 and float(x[7])!=0).map(lambda x: (x[10],(float(x[6]),float(x[7]),1))).reduceByKey(lambda x,y: (x[0]+y[0],x[1]+y[1],x[2]+y[2]))\n",
    "sum_neigbhor.collect()\n",
    "# Col1 = Quartier ; Col2 = Prix total desz ventes dans le quartier ; Col3= nombre de ventes"
   ]
  },
  {
   "cell_type": "code",
   "execution_count": 26,
   "metadata": {},
   "outputs": [
    {
     "data": {
      "text/plain": [
       "[('Saint-Gervais', 1348518.8419525067, 25985.796273134027, 758),\n",
       " ('Batignolles', 1554036.4304022347, 26537.94617874338, 2685),\n",
       " ('Gare', 1834046.059036232, 23158.206636136554, 1380),\n",
       " ('La Chapelle', 2663219.282583537, 40194.96248038082, 1227),\n",
       " ('Pont-de-Flandre', 1421143.2951408448, 19049.9384433606, 852),\n",
       " ('Saint-Vincent-de-Paul', 676732.1358541459, 11529.971200810185, 1001),\n",
       " ('Auteuil', 892046.5808382726, 12506.117632736885, 3543),\n",
       " ('Petit-Montrouge', 684727.0753268141, 11849.169107231917, 1943),\n",
       " ('Europe', 6219615.72367033, 53352.87015120189, 1365),\n",
       " ('Sainte-Marguerite', 892721.7955971337, 16614.19178624348, 1256),\n",
       " ('Montparnasse', 1939290.359108635, 30949.332692598357, 1077),\n",
       " ('Clignancourt', 841505.5908214566, 16872.99567717635, 5052),\n",
       " ('Père-Lachaise', 533813.6219627194, 11267.70331385324, 1824),\n",
       " ('Mail', 5102869.187509387, 51613.95144973035, 799),\n",
       " ('Arts-et-Métiers', 551470.3858807082, 10509.328195542135, 1073),\n",
       " ('Grenelle', 1349981.7751199494, 18911.421221600205, 1584),\n",
       " ('Notre-Dame', 1667859.5534351144, 22806.847755741128, 262),\n",
       " ('Madeleine', 5339433.988461538, 47662.411177732814, 728),\n",
       " ('Place-Vendôme', 14381716.80318339, 104508.82967362333, 289),\n",
       " ('Sorbonne', 1607750.7176666665, 30189.352094721467, 540),\n",
       " ('Bel-Air', 1435150.6340034218, 26387.50359631325, 1169),\n",
       " ('Saint-Ambroise', 1723686.2987769365, 26985.888475531363, 1717),\n",
       " ('Saint-Victor', 1215611.7453525641, 23152.3892531209, 624),\n",
       " ('Salpêtrière', 17287777.5475133, 368795.45873109985, 752),\n",
       " ('Notre-Dame-des-Champs', 1140004.629992806, 17114.598389532122, 1390),\n",
       " ('Gros-Caillou', 7183424.9299430605, 95980.29581917949, 1405),\n",
       " ('Bonne-Nouvelle', 1547070.3736235956, 24959.81568766074, 1424),\n",
       " ('Javel', 1203699.6707509877, 19210.477568348404, 1265),\n",
       " ('Villette', 2419167.4058086267, 47689.64164870396, 2226),\n",
       " ('Sainte-Avoie', 1343041.2516290129, 17292.817879539467, 841),\n",
       " ('Quinze-Vingts', 56295383.72663256, 880716.2660612102, 1075),\n",
       " (\"Saint-Thomas-d'Aquin\", 3271706.479656161, 35448.311489863714, 698),\n",
       " ('Saint-Germain-des-Prés', 1447076.8846276596, 17781.65654498513, 376),\n",
       " ('Porte-Saint-Denis', 1100019.6718448277, 16682.871851948697, 1160),\n",
       " ('Saint-Georges', 9931652.631631162, 114038.8518598215, 1643),\n",
       " ('NaN', 1009419.6822746781, 12791.014872603671, 466),\n",
       " ('Monnaie', 739121.7405344828, 14262.113564109388, 580),\n",
       " ('Archives', 1193929.9964158684, 19306.776404822474, 731),\n",
       " ('Roquette', 22039862.932001848, 402764.22196190996, 2158),\n",
       " (\"Chaussée-d'Antin\", 26685880.05467019, 112342.25508419605, 379),\n",
       " ('Combat', 1209084.7604226067, 22964.928188447142, 1964),\n",
       " ('Saint-Merri', 4551342.3290188685, 79396.071173063, 530),\n",
       " ('Croulebarbe', 789529.899701087, 15956.230605195235, 736),\n",
       " ('Hôpital-Saint-Louis', 542230.156903831, 11567.407857357306, 1279),\n",
       " ('Necker', 3369018.6147390995, 31136.708937657313, 1399),\n",
       " ('Rochechouart', 684948.8337829158, 12021.522597589981, 1557),\n",
       " ('Porte-Saint-Martin', 792897.1927729885, 11098.6152518955, 1392),\n",
       " ('Chaillot', 2228647.759519359, 17630.328913720812, 1498),\n",
       " ('Saint-Lambert', 2112035.7389884046, 40476.94911999326, 2501),\n",
       " ('Faubourg-du-Roule', 30857620.096655145, 208885.35117325268, 1157),\n",
       " ('Porte-Dauphine', 2601003.574469784, 26336.159683307553, 1754),\n",
       " ('Muette', 2611752.8355785287, 25908.815590826973, 2515),\n",
       " ('Jardin-des-Plantes', 1224691.7036941177, 24123.74740776789, 850),\n",
       " ('Champs-Elysées', 21562327.00347751, 148675.54616066423, 578),\n",
       " ('Plaine de Monceaux', 12142105.502747407, 106790.01743597501, 2122),\n",
       " ('Charonne', 557035.3872667007, 11369.133996981682, 1961),\n",
       " ('Saint-Fargeau', 408245.0871769663, 7957.906753271642, 1424),\n",
       " ('Odéon', 1117846.6132083335, 16867.32181761026, 480),\n",
       " ('Epinettes', 1265573.4006656636, 26995.78574762344, 2659),\n",
       " ('Arsenal', 2425894.2047943044, 36263.04163840205, 632),\n",
       " ('Invalides', 12623598.828954084, 106315.40962401978, 392),\n",
       " ('Parc-de-Montsouris', 8617239.441605113, 110010.63681004623, 704),\n",
       " ('Folie-Méricourt', 16836614.51199052, 317934.9512947757, 1688),\n",
       " ('Gaillon', 12286976.128888888, 86704.3948251529, 225),\n",
       " ('Maison-Blanche', 1465912.7437294878, 20232.183490316114, 2011),\n",
       " ('Faubourg-Montmartre', 3488996.2753181825, 41473.95275266784, 880),\n",
       " ('Enfants-Rouges', 1361037.9209139785, 22041.675659979803, 930),\n",
       " ('Belleville', 617276.9128703703, 12571.865087891809, 1512),\n",
       " ('Vivienne', 10651930.603773585, 41999.131230471656, 265),\n",
       " ('Halles', 4540543.001865332, 78957.84362173453, 1099),\n",
       " ('Grandes-Carrières', 714100.4992710759, 14510.240455937119, 4294),\n",
       " ('Ecole-Militaire', 1798380.2837102471, 19200.27239182103, 566),\n",
       " ('Amérique', 1202629.0833258552, 17290.411362808023, 1783),\n",
       " ('Palais-Royal', 4034489.985538058, 57906.97624750424, 381),\n",
       " ('Bercy', 6033220.368571429, 111541.87541762958, 448),\n",
       " (\"Saint-Germain-l'Auxerrois\", 1431175.0512903226, 16606.273208983155, 93),\n",
       " ('Ternes', 5966448.904956761, 61028.26936135737, 2544),\n",
       " ('Val-de-Grâce', 989085.3317124182, 16032.764308174768, 765),\n",
       " ('Picpus', 33310553.555432044, 550669.5880558139, 2222),\n",
       " ('Plaisance', 4073907.6222612867, 79987.06320466258, 2503),\n",
       " (\"Goutte-d'Or\", 462133.56063063064, 10011.69120811314, 1443)]"
      ]
     },
     "execution_count": 26,
     "metadata": {},
     "output_type": "execute_result"
    }
   ],
   "source": [
    "mean_price_per_neigbors=sum_neigbhor.map(lambda x: (x[0],x[1][0]/x[1][2],x[1][0]/x[1][1],x[1][2]))\n",
    "mean_price_per_neigbors.collect()\n",
    "# Col1 = Quartier ; Col2 = Prix moyen ; Col3 = Prix m2 : Col4= nombre de ventes"
   ]
  },
  {
   "cell_type": "markdown",
   "metadata": {},
   "source": [
    "# Analysis"
   ]
  },
  {
   "cell_type": "code",
   "execution_count": 17,
   "metadata": {},
   "outputs": [],
   "source": [
    "sqlContext = SQLContext(sc)"
   ]
  },
  {
   "cell_type": "markdown",
   "metadata": {},
   "source": [
    "## Prix d'un quartier en fonction de sa taille en m2"
   ]
  },
  {
   "cell_type": "code",
   "execution_count": 27,
   "metadata": {},
   "outputs": [],
   "source": [
    "rdd = sqlContext.createDataFrame(with_neigbhor)\n",
    "df=rdd.toPandas()"
   ]
  },
  {
   "cell_type": "code",
   "execution_count": 28,
   "metadata": {},
   "outputs": [],
   "source": [
    "df.columns=['Num','Type','Adr','Zone','Code','Date','Prix','m2','Lat','Long','Quartier']"
   ]
  },
  {
   "cell_type": "code",
   "execution_count": 29,
   "metadata": {},
   "outputs": [],
   "source": [
    "df_pandas=df"
   ]
  },
  {
   "cell_type": "code",
   "execution_count": 30,
   "metadata": {},
   "outputs": [],
   "source": [
    "df_pandas['Prix']=df_pandas['Prix'].astype(float)\n",
    "df_pandas['m2']=df_pandas['m2'].astype(float)\n",
    "df_pandas['Date']=pd.to_datetime(df['Date'], format=\"%d/%m/%Y\")\n",
    "df_pandas=df_pandas[df_pandas['Prix']!=0]\n",
    "df_pandas=df_pandas[df_pandas['m2']!=0]\n",
    "df_pandas[\"price_m2\"]=df_pandas[\"Prix\"]/df_pandas[\"m2\"]"
   ]
  },
  {
   "cell_type": "code",
   "execution_count": 31,
   "metadata": {},
   "outputs": [
    {
     "data": {
      "text/html": [
       "<div>\n",
       "<style scoped>\n",
       "    .dataframe tbody tr th:only-of-type {\n",
       "        vertical-align: middle;\n",
       "    }\n",
       "\n",
       "    .dataframe tbody tr th {\n",
       "        vertical-align: top;\n",
       "    }\n",
       "\n",
       "    .dataframe thead th {\n",
       "        text-align: right;\n",
       "    }\n",
       "</style>\n",
       "<table border=\"1\" class=\"dataframe\">\n",
       "  <thead>\n",
       "    <tr style=\"text-align: right;\">\n",
       "      <th></th>\n",
       "      <th>Num</th>\n",
       "      <th>Type</th>\n",
       "      <th>Adr</th>\n",
       "      <th>Zone</th>\n",
       "      <th>Code</th>\n",
       "      <th>Date</th>\n",
       "      <th>Prix</th>\n",
       "      <th>m2</th>\n",
       "      <th>Lat</th>\n",
       "      <th>Long</th>\n",
       "      <th>Quartier</th>\n",
       "      <th>price_m2</th>\n",
       "    </tr>\n",
       "  </thead>\n",
       "  <tbody>\n",
       "    <tr>\n",
       "      <th>0</th>\n",
       "      <td>32.0</td>\n",
       "      <td>RUE</td>\n",
       "      <td>SAUSSURE</td>\n",
       "      <td>PARIS17</td>\n",
       "      <td>75017.0</td>\n",
       "      <td>2017-01-09</td>\n",
       "      <td>571000.0</td>\n",
       "      <td>59.0</td>\n",
       "      <td>48.88446</td>\n",
       "      <td>2.31607</td>\n",
       "      <td>Batignolles</td>\n",
       "      <td>9677.966102</td>\n",
       "    </tr>\n",
       "    <tr>\n",
       "      <th>1</th>\n",
       "      <td>171.0</td>\n",
       "      <td>RUE</td>\n",
       "      <td>LEGENDRE</td>\n",
       "      <td>PARIS17</td>\n",
       "      <td>75017.0</td>\n",
       "      <td>2017-01-06</td>\n",
       "      <td>210000.0</td>\n",
       "      <td>30.0</td>\n",
       "      <td>48.89153</td>\n",
       "      <td>2.32563</td>\n",
       "      <td>Epinettes</td>\n",
       "      <td>7000.000000</td>\n",
       "    </tr>\n",
       "    <tr>\n",
       "      <th>3</th>\n",
       "      <td>46.0</td>\n",
       "      <td>RUE</td>\n",
       "      <td>DESMOINES</td>\n",
       "      <td>PARIS17</td>\n",
       "      <td>75017.0</td>\n",
       "      <td>2017-01-06</td>\n",
       "      <td>160000.0</td>\n",
       "      <td>22.0</td>\n",
       "      <td>48.8896</td>\n",
       "      <td>2.32024</td>\n",
       "      <td>Epinettes</td>\n",
       "      <td>7272.727273</td>\n",
       "    </tr>\n",
       "    <tr>\n",
       "      <th>6</th>\n",
       "      <td>37.0</td>\n",
       "      <td>RUE</td>\n",
       "      <td>POUCHET</td>\n",
       "      <td>PARIS17</td>\n",
       "      <td>75017.0</td>\n",
       "      <td>2017-01-02</td>\n",
       "      <td>179000.0</td>\n",
       "      <td>24.0</td>\n",
       "      <td>48.89341</td>\n",
       "      <td>2.31984</td>\n",
       "      <td>Epinettes</td>\n",
       "      <td>7458.333333</td>\n",
       "    </tr>\n",
       "    <tr>\n",
       "      <th>7</th>\n",
       "      <td>6.0</td>\n",
       "      <td>RUE</td>\n",
       "      <td>DEODATDESEVERAC</td>\n",
       "      <td>PARIS17</td>\n",
       "      <td>75017.0</td>\n",
       "      <td>2017-01-11</td>\n",
       "      <td>225000.0</td>\n",
       "      <td>30.0</td>\n",
       "      <td>48.88593</td>\n",
       "      <td>2.31046</td>\n",
       "      <td>Batignolles</td>\n",
       "      <td>7500.000000</td>\n",
       "    </tr>\n",
       "  </tbody>\n",
       "</table>\n",
       "</div>"
      ],
      "text/plain": [
       "     Num Type              Adr     Zone     Code       Date      Prix    m2  \\\n",
       "0   32.0  RUE         SAUSSURE  PARIS17  75017.0 2017-01-09  571000.0  59.0   \n",
       "1  171.0  RUE         LEGENDRE  PARIS17  75017.0 2017-01-06  210000.0  30.0   \n",
       "3   46.0  RUE        DESMOINES  PARIS17  75017.0 2017-01-06  160000.0  22.0   \n",
       "6   37.0  RUE          POUCHET  PARIS17  75017.0 2017-01-02  179000.0  24.0   \n",
       "7    6.0  RUE  DEODATDESEVERAC  PARIS17  75017.0 2017-01-11  225000.0  30.0   \n",
       "\n",
       "        Lat     Long     Quartier     price_m2  \n",
       "0  48.88446  2.31607  Batignolles  9677.966102  \n",
       "1  48.89153  2.32563    Epinettes  7000.000000  \n",
       "3   48.8896  2.32024    Epinettes  7272.727273  \n",
       "6  48.89341  2.31984    Epinettes  7458.333333  \n",
       "7  48.88593  2.31046  Batignolles  7500.000000  "
      ]
     },
     "execution_count": 31,
     "metadata": {},
     "output_type": "execute_result"
    }
   ],
   "source": [
    "df_pandas.head()"
   ]
  },
  {
   "cell_type": "code",
   "execution_count": 32,
   "metadata": {},
   "outputs": [],
   "source": [
    "df_quantile=df_pandas"
   ]
  },
  {
   "cell_type": "code",
   "execution_count": 33,
   "metadata": {},
   "outputs": [
    {
     "name": "stderr",
     "output_type": "stream",
     "text": [
      "/home/guillaume/anaconda3/lib/python3.7/site-packages/ipykernel_launcher.py:4: UserWarning: Boolean Series key will be reindexed to match DataFrame index.\n",
      "  after removing the cwd from sys.path.\n"
     ]
    }
   ],
   "source": [
    "quantile_m2= df[\"m2\"].quantile(0.80)\n",
    "quantile_Prix= df[\"Prix\"].quantile(0.80)\n",
    "df_quantile=df_quantile[df_pandas[\"Prix\"]<quantile_Prix]\n",
    "df_quantile=df_quantile[df_pandas[\"m2\"]<quantile_m2]"
   ]
  },
  {
   "cell_type": "code",
   "execution_count": 272,
   "metadata": {},
   "outputs": [],
   "source": [
    "quartier='Maison-Blanche'\n",
    "df_quartier=df_quantile[df_quantile['Quartier']==quartier]"
   ]
  },
  {
   "cell_type": "code",
   "execution_count": 293,
   "metadata": {},
   "outputs": [
    {
     "data": {
      "image/png": "[encoded data removed]",
      "text/plain": [
       "<Figure size 1152x576 with 1 Axes>"
      ]
     },
     "metadata": {
      "needs_background": "light"
     },
     "output_type": "display_data"
    }
   ],
   "source": [
    "fig, ax = plt.subplots(figsize=(16,8))\n",
    "ax.scatter(x=df_quartier['m2'],y=df_quartier['Prix'])\n",
    "ax.set_xlabel('m2')\n",
    "ax.set_ylabel('Prix')\n",
    "\n",
    "z = np.polyfit(df_quartier['m2'], df_quartier['Prix'], 1)\n",
    "p = np.poly1d(z)\n",
    "\n",
    "ax.plot(df_quartier['m2'],p(df_quartier['m2']),\"r--\")\n",
    "\n",
    "plt.title(quartier)\n",
    "plt.show()"
   ]
  },
  {
   "cell_type": "markdown",
   "metadata": {},
   "source": [
    "## Evolution des prix a Paris? 2017-2018"
   ]
  },
  {
   "cell_type": "code",
   "execution_count": 294,
   "metadata": {},
   "outputs": [],
   "source": [
    "df_quantile=df_quantile.sort_values(by=['Date'])\n",
    "df_quantile['Month']=pd.DatetimeIndex(df_quantile['Date']).month\n",
    "df_quantile['Year']=pd.DatetimeIndex(df_quantile['Date']).year\n",
    "df_quantile['Month/Year']=df_quantile['Month'].map(str) + '/' + df_quantile['Year'].map(str)\n",
    "df_quantile['Month/Year']=pd.to_datetime(df_quantile['Month/Year'], format=\"%m/%Y\")"
   ]
  },
  {
   "cell_type": "code",
   "execution_count": 263,
   "metadata": {},
   "outputs": [
    {
     "data": {
      "text/html": [
       "<div>\n",
       "<style scoped>\n",
       "    .dataframe tbody tr th:only-of-type {\n",
       "        vertical-align: middle;\n",
       "    }\n",
       "\n",
       "    .dataframe tbody tr th {\n",
       "        vertical-align: top;\n",
       "    }\n",
       "\n",
       "    .dataframe thead th {\n",
       "        text-align: right;\n",
       "    }\n",
       "</style>\n",
       "<table border=\"1\" class=\"dataframe\">\n",
       "  <thead>\n",
       "    <tr style=\"text-align: right;\">\n",
       "      <th></th>\n",
       "      <th>Num</th>\n",
       "      <th>Type</th>\n",
       "      <th>Adr</th>\n",
       "      <th>Zone</th>\n",
       "      <th>Code</th>\n",
       "      <th>Date</th>\n",
       "      <th>Prix</th>\n",
       "      <th>m2</th>\n",
       "      <th>Lat</th>\n",
       "      <th>Long</th>\n",
       "      <th>Quartier</th>\n",
       "      <th>price_m2</th>\n",
       "      <th>Month</th>\n",
       "      <th>Year</th>\n",
       "      <th>Month/Year</th>\n",
       "    </tr>\n",
       "  </thead>\n",
       "  <tbody>\n",
       "    <tr>\n",
       "      <th>27716</th>\n",
       "      <td>13.0</td>\n",
       "      <td>RUE</td>\n",
       "      <td>LOUISBRAILLE</td>\n",
       "      <td>PARIS12</td>\n",
       "      <td>75012.0</td>\n",
       "      <td>2017-01-02</td>\n",
       "      <td>193300.0</td>\n",
       "      <td>28.0</td>\n",
       "      <td>48.83979</td>\n",
       "      <td>2.40189</td>\n",
       "      <td>Bel-Air</td>\n",
       "      <td>6903.571429</td>\n",
       "      <td>1</td>\n",
       "      <td>2017</td>\n",
       "      <td>2017-01-01</td>\n",
       "    </tr>\n",
       "    <tr>\n",
       "      <th>27982</th>\n",
       "      <td>91.0</td>\n",
       "      <td>RUE</td>\n",
       "      <td>DEREUILLY</td>\n",
       "      <td>PARIS12</td>\n",
       "      <td>75012.0</td>\n",
       "      <td>2017-01-23</td>\n",
       "      <td>371000.0</td>\n",
       "      <td>30.0</td>\n",
       "      <td>48.84447</td>\n",
       "      <td>2.39012</td>\n",
       "      <td>Picpus</td>\n",
       "      <td>12366.666667</td>\n",
       "      <td>1</td>\n",
       "      <td>2017</td>\n",
       "      <td>2017-01-01</td>\n",
       "    </tr>\n",
       "    <tr>\n",
       "      <th>89574</th>\n",
       "      <td>5.0</td>\n",
       "      <td>PL</td>\n",
       "      <td>DESTERNES</td>\n",
       "      <td>PARIS17</td>\n",
       "      <td>75017.0</td>\n",
       "      <td>2017-01-23</td>\n",
       "      <td>60000.0</td>\n",
       "      <td>9.0</td>\n",
       "      <td>48.8784</td>\n",
       "      <td>2.29765</td>\n",
       "      <td>Ternes</td>\n",
       "      <td>6666.666667</td>\n",
       "      <td>1</td>\n",
       "      <td>2017</td>\n",
       "      <td>2017-01-01</td>\n",
       "    </tr>\n",
       "    <tr>\n",
       "      <th>55456</th>\n",
       "      <td>5.0</td>\n",
       "      <td>RUE</td>\n",
       "      <td>LITTRE</td>\n",
       "      <td>PARIS06</td>\n",
       "      <td>75006.0</td>\n",
       "      <td>2017-01-24</td>\n",
       "      <td>214000.0</td>\n",
       "      <td>20.0</td>\n",
       "      <td>48.84576</td>\n",
       "      <td>2.32391</td>\n",
       "      <td>Notre-Dame-des-Champs</td>\n",
       "      <td>10700.000000</td>\n",
       "      <td>1</td>\n",
       "      <td>2017</td>\n",
       "      <td>2017-01-01</td>\n",
       "    </tr>\n",
       "    <tr>\n",
       "      <th>50476</th>\n",
       "      <td>19.0</td>\n",
       "      <td>RUE</td>\n",
       "      <td>DERICHEMONT</td>\n",
       "      <td>PARIS13</td>\n",
       "      <td>75013.0</td>\n",
       "      <td>2017-01-24</td>\n",
       "      <td>85000.0</td>\n",
       "      <td>15.0</td>\n",
       "      <td>48.82783</td>\n",
       "      <td>2.3694</td>\n",
       "      <td>Gare</td>\n",
       "      <td>5666.666667</td>\n",
       "      <td>1</td>\n",
       "      <td>2017</td>\n",
       "      <td>2017-01-01</td>\n",
       "    </tr>\n",
       "    <tr>\n",
       "      <th>...</th>\n",
       "      <td>...</td>\n",
       "      <td>...</td>\n",
       "      <td>...</td>\n",
       "      <td>...</td>\n",
       "      <td>...</td>\n",
       "      <td>...</td>\n",
       "      <td>...</td>\n",
       "      <td>...</td>\n",
       "      <td>...</td>\n",
       "      <td>...</td>\n",
       "      <td>...</td>\n",
       "      <td>...</td>\n",
       "      <td>...</td>\n",
       "      <td>...</td>\n",
       "      <td>...</td>\n",
       "    </tr>\n",
       "    <tr>\n",
       "      <th>138884</th>\n",
       "      <td>58.0</td>\n",
       "      <td>RUE</td>\n",
       "      <td>DELACHAUSS.DANTIN</td>\n",
       "      <td>PARIS09</td>\n",
       "      <td>75009.0</td>\n",
       "      <td>2019-06-12</td>\n",
       "      <td>1.0</td>\n",
       "      <td>10.0</td>\n",
       "      <td>48.87463</td>\n",
       "      <td>2.33268</td>\n",
       "      <td>Chaussée-d'Antin</td>\n",
       "      <td>0.100000</td>\n",
       "      <td>6</td>\n",
       "      <td>2019</td>\n",
       "      <td>2019-06-01</td>\n",
       "    </tr>\n",
       "    <tr>\n",
       "      <th>138882</th>\n",
       "      <td>58.0</td>\n",
       "      <td>RUE</td>\n",
       "      <td>DELACHAUSS.DANTIN</td>\n",
       "      <td>PARIS09</td>\n",
       "      <td>75009.0</td>\n",
       "      <td>2019-06-12</td>\n",
       "      <td>1.0</td>\n",
       "      <td>10.0</td>\n",
       "      <td>48.87463</td>\n",
       "      <td>2.33268</td>\n",
       "      <td>Chaussée-d'Antin</td>\n",
       "      <td>0.100000</td>\n",
       "      <td>6</td>\n",
       "      <td>2019</td>\n",
       "      <td>2019-06-01</td>\n",
       "    </tr>\n",
       "    <tr>\n",
       "      <th>138881</th>\n",
       "      <td>58.0</td>\n",
       "      <td>RUE</td>\n",
       "      <td>DELACHAUSS.DANTIN</td>\n",
       "      <td>PARIS09</td>\n",
       "      <td>75009.0</td>\n",
       "      <td>2019-06-12</td>\n",
       "      <td>1.0</td>\n",
       "      <td>10.0</td>\n",
       "      <td>48.87463</td>\n",
       "      <td>2.33268</td>\n",
       "      <td>Chaussée-d'Antin</td>\n",
       "      <td>0.100000</td>\n",
       "      <td>6</td>\n",
       "      <td>2019</td>\n",
       "      <td>2019-06-01</td>\n",
       "    </tr>\n",
       "    <tr>\n",
       "      <th>89063</th>\n",
       "      <td>39.0</td>\n",
       "      <td>RUE</td>\n",
       "      <td>LAUGIER</td>\n",
       "      <td>PARIS17</td>\n",
       "      <td>75017.0</td>\n",
       "      <td>2019-06-12</td>\n",
       "      <td>287500.0</td>\n",
       "      <td>29.0</td>\n",
       "      <td>48.88188</td>\n",
       "      <td>2.29474</td>\n",
       "      <td>Ternes</td>\n",
       "      <td>9913.793103</td>\n",
       "      <td>6</td>\n",
       "      <td>2019</td>\n",
       "      <td>2019-06-01</td>\n",
       "    </tr>\n",
       "    <tr>\n",
       "      <th>103705</th>\n",
       "      <td>70.0</td>\n",
       "      <td>RUE</td>\n",
       "      <td>DEMENILMONTANT</td>\n",
       "      <td>PARIS20</td>\n",
       "      <td>75020.0</td>\n",
       "      <td>2019-06-29</td>\n",
       "      <td>208200.0</td>\n",
       "      <td>25.0</td>\n",
       "      <td>48.86403</td>\n",
       "      <td>2.3866</td>\n",
       "      <td>Père-Lachaise</td>\n",
       "      <td>8328.000000</td>\n",
       "      <td>6</td>\n",
       "      <td>2019</td>\n",
       "      <td>2019-06-01</td>\n",
       "    </tr>\n",
       "  </tbody>\n",
       "</table>\n",
       "<p>27215 rows × 15 columns</p>\n",
       "</div>"
      ],
      "text/plain": [
       "         Num Type                Adr     Zone     Code       Date      Prix  \\\n",
       "27716   13.0  RUE       LOUISBRAILLE  PARIS12  75012.0 2017-01-02  193300.0   \n",
       "27982   91.0  RUE          DEREUILLY  PARIS12  75012.0 2017-01-23  371000.0   \n",
       "89574    5.0   PL          DESTERNES  PARIS17  75017.0 2017-01-23   60000.0   \n",
       "55456    5.0  RUE             LITTRE  PARIS06  75006.0 2017-01-24  214000.0   \n",
       "50476   19.0  RUE        DERICHEMONT  PARIS13  75013.0 2017-01-24   85000.0   \n",
       "...      ...  ...                ...      ...      ...        ...       ...   \n",
       "138884  58.0  RUE  DELACHAUSS.DANTIN  PARIS09  75009.0 2019-06-12       1.0   \n",
       "138882  58.0  RUE  DELACHAUSS.DANTIN  PARIS09  75009.0 2019-06-12       1.0   \n",
       "138881  58.0  RUE  DELACHAUSS.DANTIN  PARIS09  75009.0 2019-06-12       1.0   \n",
       "89063   39.0  RUE            LAUGIER  PARIS17  75017.0 2019-06-12  287500.0   \n",
       "103705  70.0  RUE     DEMENILMONTANT  PARIS20  75020.0 2019-06-29  208200.0   \n",
       "\n",
       "          m2       Lat     Long               Quartier      price_m2  Month  \\\n",
       "27716   28.0  48.83979  2.40189                Bel-Air   6903.571429      1   \n",
       "27982   30.0  48.84447  2.39012                 Picpus  12366.666667      1   \n",
       "89574    9.0   48.8784  2.29765                 Ternes   6666.666667      1   \n",
       "55456   20.0  48.84576  2.32391  Notre-Dame-des-Champs  10700.000000      1   \n",
       "50476   15.0  48.82783   2.3694                   Gare   5666.666667      1   \n",
       "...      ...       ...      ...                    ...           ...    ...   \n",
       "138884  10.0  48.87463  2.33268       Chaussée-d'Antin      0.100000      6   \n",
       "138882  10.0  48.87463  2.33268       Chaussée-d'Antin      0.100000      6   \n",
       "138881  10.0  48.87463  2.33268       Chaussée-d'Antin      0.100000      6   \n",
       "89063   29.0  48.88188  2.29474                 Ternes   9913.793103      6   \n",
       "103705  25.0  48.86403   2.3866          Père-Lachaise   8328.000000      6   \n",
       "\n",
       "        Year Month/Year  \n",
       "27716   2017 2017-01-01  \n",
       "27982   2017 2017-01-01  \n",
       "89574   2017 2017-01-01  \n",
       "55456   2017 2017-01-01  \n",
       "50476   2017 2017-01-01  \n",
       "...      ...        ...  \n",
       "138884  2019 2019-06-01  \n",
       "138882  2019 2019-06-01  \n",
       "138881  2019 2019-06-01  \n",
       "89063   2019 2019-06-01  \n",
       "103705  2019 2019-06-01  \n",
       "\n",
       "[27215 rows x 15 columns]"
      ]
     },
     "execution_count": 263,
     "metadata": {},
     "output_type": "execute_result"
    }
   ],
   "source": [
    "df_quantile=df_quantile.sort_values(by=['Month/Year'])\n",
    "df_quantile"
   ]
  },
  {
   "cell_type": "code",
   "execution_count": 264,
   "metadata": {},
   "outputs": [],
   "source": [
    "df_final=df_quantile.groupby(['Month/Year']).mean().reset_index()"
   ]
  },
  {
   "cell_type": "code",
   "execution_count": 265,
   "metadata": {},
   "outputs": [
    {
     "data": {
      "image/png": "[encoded data removed]",
      "text/plain": [
       "<Figure size 1152x576 with 1 Axes>"
      ]
     },
     "metadata": {
      "needs_background": "light"
     },
     "output_type": "display_data"
    }
   ],
   "source": [
    "fig, ax = plt.subplots(figsize=(16,8))\n",
    "ax.scatter(x=df_final['Month/Year'],y=df_final['price_m2'])\n",
    "ax.set_xlabel('Month/Year')\n",
    "ax.set_ylabel('price_m2')\n",
    "\n",
    "plt.show()"
   ]
  },
  {
   "cell_type": "markdown",
   "metadata": {},
   "source": [
    "### On remarque une tendance haussière sur les prix en fonction du temps"
   ]
  },
  {
   "cell_type": "markdown",
   "metadata": {},
   "source": [
    "# Folium map"
   ]
  },
  {
   "cell_type": "markdown",
   "metadata": {},
   "source": [
    "#### Colore les quartiers en fonction du prix moyen au m2 "
   ]
  },
  {
   "cell_type": "code",
   "execution_count": 39,
   "metadata": {},
   "outputs": [],
   "source": [
    "import folium #mappingas\n",
    "import branca.colormap as cm"
   ]
  },
  {
   "cell_type": "code",
   "execution_count": 35,
   "metadata": {},
   "outputs": [],
   "source": [
    "df_mean_quartier=df_quantile.groupby(['Quartier']).mean().reset_index()"
   ]
  },
  {
   "cell_type": "code",
   "execution_count": 37,
   "metadata": {},
   "outputs": [
    {
     "name": "stdout",
     "output_type": "stream",
     "text": [
      "13837.179534327366\n",
      "13837.179534327366\n"
     ]
    }
   ],
   "source": [
    "print(df_mean_quartier[df_mean_quartier['Quartier']=='Sorbonne']['price_m2'].min())\n",
    "print(df_mean_quartier[df_mean_quartier['Quartier']=='Sorbonne']['price_m2'].max())"
   ]
  },
  {
   "cell_type": "code",
   "execution_count": 40,
   "metadata": {},
   "outputs": [
    {
     "data": {
      "text/html": [
       "\n",
       "        <iframe\n",
       "            width=\"900\"\n",
       "            height=\"600\"\n",
       "            src=\"map.html\"\n",
       "            frameborder=\"0\"\n",
       "            allowfullscreen\n",
       "        ></iframe>\n",
       "        "
      ],
      "text/plain": [
       "<IPython.lib.display.IFrame at 0x7fc99547bc18>"
      ]
     },
     "execution_count": 40,
     "metadata": {},
     "output_type": "execute_result"
    }
   ],
   "source": [
    "coords = (48.864716,2.349014)\n",
    "map = folium.Map(location=coords, tiles='OpenStreetMap', zoom_start=12)\n",
    "\n",
    "linear = cm.LinearColormap(\n",
    "    ['green','yellow', 'red'],\n",
    "    vmin=df_mean_quartier['price_m2'].min(), vmax=df_mean_quartier['price_m2'].max()\n",
    ")\n",
    "\n",
    "#style function\n",
    "\n",
    "def style_function(feature):\n",
    "    if df_mean_quartier['Quartier'].isin([feature['properties']['l_qu']]).any().any():\n",
    "        value=df_mean_quartier.loc[df_mean_quartier['Quartier'] == feature['properties']['l_qu'], 'price_m2'].iloc[0] \n",
    "        return {\n",
    "            'fillColor': linear(value),\n",
    "            'fillOpacity': 0.5,\n",
    "            'color': 'black',\n",
    "            'weight': 1,\n",
    "            'dashArray': '5, 5'\n",
    "        }\n",
    "    return {\n",
    "        'fillColor': linear(0),\n",
    "        'color': 'black',\n",
    "        'weight': 2,\n",
    "        'dashArray': '5, 5'\n",
    "        }\n",
    "folium.GeoJson(\n",
    "    data=quartier_info,\n",
    "    name=quartier_info,\n",
    "    style_function= style_function\n",
    ").add_to(map)\n",
    "\n",
    "\n",
    "map.save(outfile='map.html')\n",
    "\n",
    "from IPython.display import IFrame\n",
    "IFrame(src='map.html', width=900, height=600)"
   ]
  },
  {
   "cell_type": "code",
   "execution_count": 43,
   "metadata": {},
   "outputs": [
    {
     "data": {
      "image/png": "[encoded data removed]",
      "text/plain": [
       "<Figure size 432x288 with 1 Axes>"
      ]
     },
     "metadata": {
      "needs_background": "light"
     },
     "output_type": "display_data"
    }
   ],
   "source": [
    "import matplotlib.pyplot as plt\n",
    "import matplotlib.image as mpimg\n",
    "img=mpimg.imread('Map.jpg')\n",
    "imgplot = plt.imshow(img)\n",
    "plt.show()"
   ]
  }
 ],
 "metadata": {
  "kernelspec": {
   "display_name": "Python 3",
   "language": "python",
   "name": "python3"
  },
  "language_info": {
   "codemirror_mode": {
    "name": "ipython",
    "version": 3
   },
   "file_extension": ".py",
   "mimetype": "text/x-python",
   "name": "python",
   "nbconvert_exporter": "python",
   "pygments_lexer": "ipython3",
   "version": "3.7.3"
  }
 },
 "nbformat": 4,
 "nbformat_minor": 4
}
